{
  "nbformat": 4,
  "nbformat_minor": 5,
  "metadata": {
    "kernelspec": {
      "display_name": "Python 3",
      "language": "python",
      "name": "python3"
    },
    "language_info": {
      "name": "python",
      "pygments_lexer": "ipython3"
    },
    "colab": {
      "name": "Visualisation_Matplotlib.ipynb",
      "provenance": []
    }
  },
  "cells": [
    {
      "id": "11a18550",
      "cell_type": "markdown",
      "source": "\n# 📈 Visualisation des données — Matplotlib\n_Master IA-GI — Notebook 4 (Partie 1)_\n\nCe notebook suit la logique de votre support **MatPlotLib02.docx** et l'approche objet de Matplotlib (`Figure`/`Axes`).  \nIl privilégie des exemples clairs, des exercices avec **hints/solutions** pliables et des bonnes pratiques reproductibles.\n\n**Objectifs d’apprentissage**\n- Comprendre la différence `plt` vs API objet (`fig, ax = plt.subplots()`)\n- Créer les graphiques essentiels (ligne, scatter, barres, histogramme, boxplot)\n- Maîtriser titres, labels, ticks, légendes, annotations, styles et sauvegarde\n- Construire des **subplots** et gérer la mise en page (layout)\n- Travailler avec dates, catégories, axes jumeaux, échelle log\n- Concevoir une figure propre et prête pour un rapport\n\n**Pré-requis** : Notebooks 1–3  \n**Durée estimée** : 3h\n",
      "metadata": {}
    },
    {
      "id": "b4cbba84",
      "cell_type": "markdown",
      "source": "\n---\n## 0) ⚙️ Préparation\n",
      "metadata": {}
    },
    {
      "id": "ed94fc1c",
      "cell_type": "code",
      "metadata": {},
      "execution_count": null,
      "source": "\nimport numpy as np\nimport matplotlib.pyplot as plt\n\nprint(\"NumPy:\", np.__version__)\nprint(\"Matplotlib:\", plt.matplotlib.__version__)\n\n# Générateur aléatoire pour des exemples reproductibles\nrng = np.random.default_rng(42)\n",
      "outputs": []
    },
    {
      "id": "ffce8d65",
      "cell_type": "markdown",
      "source": "\n---\n## 1) Démarrage rapide — API Objet (recommandée)\n> Toujours créer une figure et un ou plusieurs axes, puis dessiner **sur l'axe**.\n\n```python\nfig, ax = plt.subplots(figsize=(6, 4))\nax.plot(x, y, marker=\"o\")\nax.set(title=\"Titre\", xlabel=\"X\", ylabel=\"Y\")\nfig.tight_layout()\n```\n",
      "metadata": {}
    },
    {
      "id": "6dcf6327",
      "cell_type": "code",
      "metadata": {},
      "execution_count": null,
      "source": "\nx = np.linspace(0, 2*np.pi, 50)\ny = np.sin(x)\n\nfig, ax = plt.subplots(figsize=(6, 4))\nax.plot(x, y, marker=\"o\")\nax.set(title=\"Sinus simple\", xlabel=\"x (rad)\", ylabel=\"sin(x)\")\nfig.tight_layout()\n",
      "outputs": []
    },
    {
      "id": "2f8efaa2",
      "cell_type": "markdown",
      "source": "\n**Exercice 1.1 — Cosinus**\nTrace `cos(x)` sur le même domaine, avec des marqueurs carrés, un style pointillé et un titre **\"Cosinus\"**.\n\n<details>\n<summary>✅ Solution</summary>\n\n```python\nx = np.linspace(0, 2*np.pi, 50)\ny = np.cos(x)\nfig, ax = plt.subplots(figsize=(6,4))\nax.plot(x, y, linestyle=\"--\", marker=\"s\")\nax.set(title=\"Cosinus\", xlabel=\"x (rad)\", ylabel=\"cos(x)\")\nfig.tight_layout()\n```\n</details>\n",
      "metadata": {}
    },
    {
      "id": "95deefcc",
      "cell_type": "markdown",
      "source": "\n---\n## 2) Graphiques essentiels\n### 2.1 Ligne & Scatter\n",
      "metadata": {}
    },
    {
      "id": "b432f468",
      "cell_type": "code",
      "metadata": {},
      "execution_count": null,
      "source": "\nx = np.linspace(0, 10, 50)\ny1 = 2*x + 1 + rng.normal(0, 2, size=x.size)\ny2 = 1.5*x + 3\n\nfig, ax = plt.subplots(figsize=(6, 4))\nax.plot(x, y2, label=\"Tendance (ligne)\")\nax.scatter(x, y1, label=\"Observations (scatter)\")\nax.set(title=\"Ligne + Scatter\", xlabel=\"X\", ylabel=\"Y\")\nax.legend()\nfig.tight_layout()\n",
      "outputs": []
    },
    {
      "id": "25c27f46",
      "cell_type": "markdown",
      "source": "\n### 2.2 Barres (simples & groupées)\n",
      "metadata": {}
    },
    {
      "id": "041de968",
      "cell_type": "code",
      "metadata": {},
      "execution_count": null,
      "source": "\nlabels = [\"A\", \"B\", \"C\", \"D\"]\nvalues1 = [12, 18, 7, 10]\nvalues2 = [9, 14, 11, 13]\nx = np.arange(len(labels))\nw = 0.35\n\nfig, ax = plt.subplots(figsize=(6, 4))\nax.bar(x - w/2, values1, width=w, label=\"S1\")\nax.bar(x + w/2, values2, width=w, label=\"S2\")\nax.set(title=\"Barres groupées\", xlabel=\"Catégorie\", ylabel=\"Valeur\", xticks=x, xticklabels=labels)\nax.legend()\nfig.tight_layout()\n",
      "outputs": []
    },
    {
      "id": "7c7308a0",
      "cell_type": "markdown",
      "source": "\n### 2.3 Histogramme & Densité approximative\n",
      "metadata": {}
    },
    {
      "id": "b2d48f88",
      "cell_type": "code",
      "metadata": {},
      "execution_count": null,
      "source": "\ndata = rng.normal(loc=170, scale=8, size=500)\nfig, ax = plt.subplots(figsize=(6, 4))\nax.hist(data, bins=20, density=True, alpha=0.7)\nax.set(title=\"Distribution (histogramme)\", xlabel=\"Taille (cm)\", ylabel=\"Densité\")\nfig.tight_layout()\n",
      "outputs": []
    },
    {
      "id": "574af07f",
      "cell_type": "markdown",
      "source": "\n### 2.4 Boxplot (distribution par groupe)\n",
      "metadata": {}
    },
    {
      "id": "c51a3052",
      "cell_type": "code",
      "metadata": {},
      "execution_count": null,
      "source": "\ng1 = rng.normal(60, 8, size=100)\ng2 = rng.normal(65, 6, size=100)\ng3 = rng.normal(70, 5, size=100)\n\nfig, ax = plt.subplots(figsize=(6, 4))\nax.boxplot([g1, g2, g3], labels=[\"G1\", \"G2\", \"G3\"])\nax.set(title=\"Boxplots par groupe\", ylabel=\"Score\")\nfig.tight_layout()\n",
      "outputs": []
    },
    {
      "id": "b9975424",
      "cell_type": "markdown",
      "source": "\n---\n## 3) Titres, labels, ticks, légendes & annotations\n",
      "metadata": {}
    },
    {
      "id": "4b2c07f6",
      "cell_type": "code",
      "metadata": {},
      "execution_count": null,
      "source": "\nx = np.linspace(0, 4*np.pi, 200)\ny = np.sin(x)\n\nfig, ax = plt.subplots(figsize=(6, 4))\nax.plot(x, y, label=\"sin(x)\")\nax.set_title(\"Astuces d'annotation\")\nax.set_xlabel(\"x (rad)\")\nax.set_ylabel(\"Amplitude\")\n\n# Ticks personnalisés (tous les pi)\nticks = np.arange(0, 4*np.pi + 0.1, np.pi)\nax.set_xticks(ticks)\nax.set_xticklabels([f\"{int(t/np.pi)}π\" for t in ticks])\n\n# Légende & grille\nax.legend(loc=\"upper right\")\nax.grid(True, linestyle=\":\")\n\n# Annotation d'un maximum local\nimax = np.argmax(y)\nax.annotate(\"max local\", xy=(x[imax], y[imax]), xytext=(x[imax]+0.5, y[imax]),\n            arrowprops=dict(arrowstyle=\"->\"))\n\nfig.tight_layout()\n",
      "outputs": []
    },
    {
      "id": "5c26a2c2",
      "cell_type": "markdown",
      "source": "\n**Exercice 3.1 — Ticks & grille**  \nReprends l’histogramme précédent et :\n- ajoute une grille pointillée\n- remplace les ticklabels x par des bornes lisibles (ex. 150, 160, 170, ...).\n",
      "metadata": {}
    },
    {
      "id": "13918ef0",
      "cell_type": "markdown",
      "source": "\n---\n## 4) Subplots & mise en page\n### 4.1 `plt.subplots(nrows, ncols)`\n",
      "metadata": {}
    },
    {
      "id": "4d0a710c",
      "cell_type": "code",
      "metadata": {},
      "execution_count": null,
      "source": "\nx = np.linspace(0, 2*np.pi, 100)\nfig, axes = plt.subplots(2, 2, figsize=(8, 6), sharex=True)\naxes = axes.ravel()\naxes[0].plot(x, np.sin(x)); axes[0].set_title(\"sin\")\naxes[1].plot(x, np.cos(x)); axes[1].set_title(\"cos\")\naxes[2].plot(x, np.tan(x)); axes[2].set_title(\"tan\")\naxes[3].plot(x, np.sin(x)*np.cos(x)); axes[3].set_title(\"sin*cos\")\nfig.suptitle(\"Subplots 2x2\", y=1.02)\nfig.tight_layout()\n",
      "outputs": []
    },
    {
      "id": "a1b5d7df",
      "cell_type": "markdown",
      "source": "\n### 4.2 `GridSpec` pour des mises en page plus fines\n",
      "metadata": {}
    },
    {
      "id": "e4e2ac4b",
      "cell_type": "code",
      "metadata": {},
      "execution_count": null,
      "source": "\nimport matplotlib.gridspec as gridspec\n\nfig = plt.figure(figsize=(8, 5))\ngs = gridspec.GridSpec(2, 3, figure=fig)\nax1 = fig.add_subplot(gs[0, :])\nax2 = fig.add_subplot(gs[1, 0])\nax3 = fig.add_subplot(gs[1, 1:])\n\nx = np.linspace(0, 10, 100)\nax1.plot(x, np.sin(x)); ax1.set_title(\"Large (ligne 1)\")\nax2.bar([\"A\",\"B\",\"C\"], [5,2,7])\nax3.hist(rng.normal(0,1,300), bins=20, alpha=0.7)\n\nfig.tight_layout()\n",
      "outputs": []
    },
    {
      "id": "7457683c",
      "cell_type": "markdown",
      "source": "\n---\n## 5) Axes avancés : twin, secondary axis, log, catégories, dates\n",
      "metadata": {}
    },
    {
      "id": "1e2124e8",
      "cell_type": "code",
      "metadata": {},
      "execution_count": null,
      "source": "\n# Axes jumeaux (deux échelles)\nx = np.linspace(0, 10, 100)\ny1 = np.exp(0.3 * x)\ny2 = np.log1p(x)\n\nfig, ax1 = plt.subplots(figsize=(6, 4))\nax2 = ax1.twinx()\nax1.plot(x, y1, label=\"exp(0.3x)\")\nax2.plot(x, y2, linestyle=\"--\", label=\"log1p(x)\")\n\nax1.set_xlabel(\"X\")\nax1.set_ylabel(\"Y1\")\nax2.set_ylabel(\"Y2\")\nfig.tight_layout()\n",
      "outputs": []
    },
    {
      "id": "a04dd791",
      "cell_type": "code",
      "metadata": {},
      "execution_count": null,
      "source": "\n# Échelle logarithmique & catégories\nfig, (ax1, ax2) = plt.subplots(1, 2, figsize=(8, 4))\nax1.plot([1,2,3,4], [1,10,100,1000])\nax1.set_yscale(\"log\")\nax1.set_title(\"Échelle log (y)\")\n\nax2.bar([\"Lun\",\"Mar\",\"Mer\",\"Jeu\",\"Ven\"], [10, 12, 9, 7, 11])\nax2.set_title(\"Catégories simples\")\nfig.tight_layout()\n",
      "outputs": []
    },
    {
      "id": "54d89fda",
      "cell_type": "code",
      "metadata": {},
      "execution_count": null,
      "source": "\n# Dates (synthétiques)\nimport datetime as dt\ndates = np.array([dt.date(2025, 1, 1) + dt.timedelta(days=i) for i in range(20)])\nvalues = np.cumsum(rng.normal(0, 1, size=20))\n\nfig, ax = plt.subplots(figsize=(7, 3.5))\nax.plot(dates, values, marker=\"o\")\nax.set(title=\"Série temporelle\", xlabel=\"Date\", ylabel=\"Valeur cumulée\")\nfig.autofmt_xdate()\nfig.tight_layout()\n",
      "outputs": []
    },
    {
      "id": "0e54dcc4",
      "cell_type": "markdown",
      "source": "\n---\n## 6) Export des figures (PNG/PDF/SVG)\n- Utiliser `fig.savefig(\"nom.png\", dpi=300, bbox_inches=\"tight\")` pour une figure propre\n- Formats utiles : PNG (raster), PDF/SVG (vectoriel)\n",
      "metadata": {}
    },
    {
      "id": "cd149208",
      "cell_type": "code",
      "metadata": {},
      "execution_count": null,
      "source": "\nx = np.linspace(0, 2*np.pi, 50)\nfig, ax = plt.subplots(figsize=(6, 4))\nax.plot(x, np.sin(x))\nax.set(title=\"Exemple à exporter\")\nfig.tight_layout()\nfig.savefig(\"figure_exemple.png\", dpi=300, bbox_inches=\"tight\")\n\"Fichier enregistré: figure_exemple.png\"\n",
      "outputs": []
    },
    {
      "id": "0bd287b5",
      "cell_type": "markdown",
      "source": "\n---\n## 7) Styles & `rcParams` (aperçu)\n- Styles prédéfinis : `plt.style.available` puis `plt.style.use(\"seaborn-v0_8\")` (ex.)\n- `plt.rcParams` pour modifier la configuration globale (polices, tailles, etc.)\n\n> On reste minimaliste ici; le prochain notebook **Seaborn** simplifiera beaucoup la stylisation.\n",
      "metadata": {}
    },
    {
      "id": "7c1652f1",
      "cell_type": "code",
      "metadata": {},
      "execution_count": null,
      "source": "\n# Aperçu des styles (sans forcer ici)\navailable = plt.style.available[:5]\navailable\n",
      "outputs": []
    },
    {
      "id": "d588ba4f",
      "cell_type": "markdown",
      "source": "\n---\n## 8) Bonnes pratiques (récap)\n- Préférer l’API **objet** (`fig, ax = plt.subplots()`)\n- Regrouper **titre/labels/legend** et activer `tight_layout()`\n- Contrôler les **ticks** et ajouter une **grille discrète** au besoin\n- Exporter proprement (`dpi=300`, `bbox_inches=\"tight\"`) pour vos rapports\n",
      "metadata": {}
    },
    {
      "id": "d69c6547",
      "cell_type": "markdown",
      "source": "\n---\n## 9) 📝 Quiz express\n1) Quelle est la différence entre `plt.plot(...)` et `ax.plot(...)` ?  \n2) Comment créer une figure avec 3 sous-graphiques en colonne ?  \n3) Quelle méthode utilises-tu pour mettre l’axe y en **log** ?  \n4) Comment exporter une figure en PDF vectoriel propre ?  \n5) À quoi sert `fig.autofmt_xdate()` ?\n\n<details>\n<summary>✅ Corrigé</summary>\n\n1) `plt.plot` utilise l’état global ; `ax.plot` dessine sur un **Axes** explicite (API objet).  \n2) `fig, axes = plt.subplots(3, 1)`  \n3) `ax.set_yscale(\"log\")`  \n4) `fig.savefig(\"fig.pdf\", bbox_inches=\"tight\")`  \n5) À formater les dates en x (inclinaison, lisibilité).\n</details>\n",
      "metadata": {}
    },
    {
      "id": "8c5aea86",
      "cell_type": "markdown",
      "source": "\n---\n## 10) 🎯 Mini-projet — *Tableau de bord simple*\n**Tâche** : À partir de trois séries synthétiques (ventes mensuelles de trois produits sur 24 mois) :\n1) Construire une **figure 2x2** : (a) séries temporelles, (b) barres groupées du dernier trimestre, (c) histogramme des variations mensuelles d’un produit, (d) boxplot des trois produits.  \n2) Soigner titres/labels/légendes, ticks mois (`Jan`, `Fév`, …), grille discrète, et **sauvegarde** en PNG 300 dpi.  \n3) Bonus : ajouter un **axe jumeau** sur (a) pour afficher une moyenne mobile (rolling 3) sur l’axe droit.\n",
      "metadata": {}
    },
    {
      "id": "4f38576d",
      "cell_type": "code",
      "metadata": {},
      "execution_count": null,
      "source": "\n# Données synthétiques\nmonths = np.arange(24)\nmnames = [\"Jan\", \"Fév\", \"Mar\", \"Avr\", \"Mai\", \"Juin\", \"Juil\", \"Août\", \"Sep\", \"Oct\", \"Nov\", \"Déc\"]\nlabels = [mnames[m%12] for m in months]\n\nrng = np.random.default_rng(123)\np1 = np.cumsum(rng.normal(100, 10, size=24))\np2 = np.cumsum(rng.normal(80, 12, size=24))\np3 = np.cumsum(rng.normal(90, 8, size=24))\n\nfig, axes = plt.subplots(2, 2, figsize=(10, 7))\n(ax1, ax2), (ax3, ax4) = axes\n\n# (a) séries\nax1.plot(months, p1, label=\"P1\")\nax1.plot(months, p2, label=\"P2\")\nax1.plot(months, p3, label=\"P3\")\nax1.set_title(\"Ventes mensuelles\")\nax1.set_xlabel(\"Mois\"); ax1.set_ylabel(\"Ventes cumulées\")\nax1.set_xticks(months[::2]); ax1.set_xticklabels(labels[::2])\nax1.legend(); ax1.grid(True, linestyle=\":\")\n\n# Bonus: moyenne mobile 3 et axe jumeau\nroll = np.convolve(p1, np.ones(3)/3, mode=\"valid\")\nax1b = ax1.twinx()\nax1b.plot(np.arange(2,24), roll, linestyle=\"--\")\nax1b.set_ylabel(\"Moyenne mobile (P1)\")\n\n# (b) barres groupées du dernier trimestre (mois 21-23)\nx = np.array([21,22,23])\nw = 0.3\nax2.bar(x - w, p1[-3:], width=w, label=\"P1\")\nax2.bar(x,       p2[-3:], width=w, label=\"P2\")\nax2.bar(x + w,   p3[-3:], width=w, label=\"P3\")\nax2.set_title(\"Dernier trimestre\")\nax2.set_xticks(x); ax2.set_xticklabels([labels[i] for i in x])\nax2.legend(); ax2.grid(True, axis=\"y\", linestyle=\":\")\n\n# (c) histogramme des variations de P1\ndiff1 = np.diff(p1)\nax3.hist(diff1, bins=15, alpha=0.7)\nax3.set_title(\"Variations mensuelles (P1)\")\nax3.set_xlabel(\"Δ\"); ax3.set_ylabel(\"Fréquence\")\n\n# (d) boxplot des trois produits\nax4.boxplot([p1, p2, p3], labels=[\"P1\",\"P2\",\"P3\"])\nax4.set_title(\"Distribution des ventes\")\nax4.grid(True, axis=\"y\", linestyle=\":\")\n\nfig.suptitle(\"Mini-tableau de bord (Matplotlib)\", y=1.02)\nfig.tight_layout()\nfig.savefig(\"dashboard_matplotlib.png\", dpi=300, bbox_inches=\"tight\")\n\"Fichier enregistré: dashboard_matplotlib.png\"\n",
      "outputs": []
    },
    {
      "id": "aa889b4e",
      "cell_type": "markdown",
      "source": "\n---\n## 📚 Ressources\n- Matplotlib gallery : https://matplotlib.org/stable/gallery/index.html  \n- API Axes : https://matplotlib.org/stable/api/axes_api.html  \n- Subplots & GridSpec : https://matplotlib.org/stable/users/explain/axes/arranging_axes.html  \n\n**Prochaine étape (Partie 2)** : **Seaborn — statistiques & styles haut-niveau**\n",
      "metadata": {}
    }
  ]
}