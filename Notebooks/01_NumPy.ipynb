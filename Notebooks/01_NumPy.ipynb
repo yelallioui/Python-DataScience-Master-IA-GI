{
  "nbformat": 4,
  "nbformat_minor": 5,
  "metadata": {
    "kernelspec": {
      "display_name": "Python 3",
      "language": "python",
      "name": "python3"
    },
    "language_info": {
      "name": "python",
      "pygments_lexer": "ipython3"
    },
    "colab": {
      "name": "NumPy_Calcul_Scientifique_Tableaux.ipynb",
      "provenance": []
    }
  },
  "cells": [
    {
      "id": "394200be",
      "cell_type": "markdown",
      "source": "\n# 🔢 NumPy — Calcul scientifique et tableaux\n_Master IA-GI — Notebook 3_\n\nCe notebook suit et met en pratique le **support de cours NumPy** que vous avez partagé (fondamentaux, génération aléatoire, ufuncs, math/stat/algèbre, algèbre linéaire).\n\n**Objectifs d’apprentissage**\n- Comprendre la structure `ndarray` et manipuler **dimensions, shape, dtype, view/copy, reshape, slicing, indexing**  \n- Utiliser les **constructeurs** (ones, zeros, arange, linspace, empty, full, eye, etc.)  \n- Maîtriser les **ufuncs** et la **vectorisation**  \n- Générer des **données aléatoires** et simuler des **distributions**  \n- Appliquer les **fonctions mathématiques/statistiques** et l’**algèbre linéaire** (`np.linalg`)  \n\n**Pré-requis** : Notebooks 1 & 2  \n**Durée estimée** : 3h\n",
      "metadata": {}
    },
    {
      "id": "bdd2321b",
      "cell_type": "markdown",
      "source": "\n---\n## 0) ⚙️ Préparation & version\n",
      "metadata": {}
    },
    {
      "id": "a0c9da9a",
      "cell_type": "code",
      "metadata": {},
      "execution_count": null,
      "source": "\nimport numpy as np, math, sys, platform\nprint(\"NumPy version:\", np.__version__)\nprint(\"Python:\", sys.version.split()[0], \"| Platform:\", platform.platform())\n",
      "outputs": []
    },
    {
      "id": "5902c5dc",
      "cell_type": "markdown",
      "source": "\n---\n## 1) Fondamentaux de `ndarray` — dimensions, shape, dtype\n**À retenir**\n- `ndarray` = tableau **N-dimensionnel** homogène (un seul `dtype`)\n- `ndim`, `shape`, `size`, `dtype`\n- Indexation, slicing, **views** vs **copies**\n",
      "metadata": {}
    },
    {
      "id": "811196cb",
      "cell_type": "code",
      "metadata": {},
      "execution_count": null,
      "source": "\nimport numpy as np\n\n# Création 0D, 1D, 2D, 3D\na0 = np.array(42)                     # 0-D\na1 = np.array([1, 2, 3, 4, 5])        # 1-D\na2 = np.array([[1,2,3],[4,5,6]])      # 2-D\na3 = np.array([[[1,2,3],[4,5,6]],\n               [[7,8,9],[10,11,12]]]) # 3-D\n\nprint(\"ndim:\", a3.ndim, \"| shape:\", a3.shape, \"| size:\", a3.size, \"| dtype:\", a3.dtype)\n",
      "outputs": []
    },
    {
      "id": "8cf3bee9",
      "cell_type": "markdown",
      "source": "\n### Indexation & slicing\n- Indexation standard (positive & negative)\n- Slicing `[start:stop:step]`\n- **Views** : la plupart des slices renvoient une **vue** (pas une copie)\n",
      "metadata": {}
    },
    {
      "id": "980e323a",
      "cell_type": "code",
      "metadata": {},
      "execution_count": null,
      "source": "\nx = np.arange(10)      # 0..9\nview = x[2:8:2]        # vue sur x\nview[:] = -1           # modifie x\nprint(\"x:\", x, \"| view:\", view)\n\ny = x.copy()           # vraie copie\ny[0] = 999\nprint(\"copy vs original:\", y[0], x[0])\n",
      "outputs": []
    },
    {
      "id": "dc67392a",
      "cell_type": "markdown",
      "source": "\n**Exercice 1.1 — Slicing 2D**  \nCrée un `arr` de shape `(5, 6)` avec `arange` puis reshape. Extrais :\n1) Les 3 premières lignes  \n2) Les colonnes paires  \n3) Un sous-bloc central (2x3)  \n\n<details>\n<summary>✅ Solution</summary>\n\n```python\narr = np.arange(30).reshape(5,6)\ns1 = arr[:3, :]          # 3 premières lignes\ns2 = arr[:, ::2]         # colonnes paires\ns3 = arr[1:3, 2:5]       # bloc central 2x3\n(s1.shape, s2.shape, s3.shape), (s1, s2, s3)\n```\n</details>\n",
      "metadata": {}
    },
    {
      "id": "3ffa3c81",
      "cell_type": "markdown",
      "source": "\n---\n## 2) Constructeurs & gestion des types (`dtype`)\n**Constructeurs clés**\n- `np.array`, `np.zeros`, `np.ones`, `np.empty`, `np.full`, `np.eye`\n- `np.arange`, `np.linspace`\n- `astype` pour convertir le `dtype`\n",
      "metadata": {}
    },
    {
      "id": "bda3688d",
      "cell_type": "code",
      "metadata": {},
      "execution_count": null,
      "source": "\nz = np.zeros((2,3), dtype=np.float32)\no = np.ones((2,3), dtype=np.int32)\nf = np.full((2,3), fill_value=7.5)\nI = np.eye(4)\nseq = np.arange(0, 1.0, 0.2)           # pas fixe\nlin = np.linspace(0, 1, num=5)         # nombre de points\n\nprint(z.dtype, o.dtype, f.dtype)\nprint(\"I:\\n\", I)\nprint(\"seq:\", seq, \"| lin:\", lin)\n\n# dtype\na = np.array([1, 2, 3], dtype=np.int8)\nb = a.astype(np.float64)\na.dtype, b.dtype\n",
      "outputs": []
    },
    {
      "id": "6d98a0f4",
      "cell_type": "markdown",
      "source": "\n**Exercice 2.1 — Grille**  \nCrée une grille 2D `X` de shape `(4,5)` contenant des entiers de 10 à 29 (ordre ligne-par-ligne) puis convertis-la en `float64`.\n\n<details>\n<summary>✅ Solution</summary>\n\n```python\nX = np.arange(10, 30).reshape(4,5).astype(np.float64)\nX.dtype, X.shape, X[:2]\n```\n</details>\n",
      "metadata": {}
    },
    {
      "id": "26a98224",
      "cell_type": "markdown",
      "source": "\n---\n## 3) Reshape & réarrangements\n- `reshape`, dimension inconnue `-1`\n- `ravel()` (vue si possible) vs `flatten()` (copie)\n- `squeeze()` pour supprimer les axes de dimension 1\n- `transpose`, `swapaxes`\n- `stack` (`vstack`, `hstack`, `dstack`), `concatenate`, `split`\n",
      "metadata": {}
    },
    {
      "id": "6a6171c9",
      "cell_type": "code",
      "metadata": {},
      "execution_count": null,
      "source": "\nA = np.arange(12).reshape(3,4)\nA_T = A.T\nflat_view = A.ravel()      # souvent vue\nflat_copy = A.flatten()    # copie\nB = np.expand_dims(np.arange(6), axis=1)  # shape (6,1)\nB_sq = np.squeeze(B)       # enlève l'axe de taille 1\n\nC = np.hstack([A, A])      # concat horizontal\nD = np.vstack([A, A])      # concat vertical\nA.shape, A_T.shape, flat_view.shape, flat_copy.shape, B.shape, B_sq.shape, C.shape, D.shape\n",
      "outputs": []
    },
    {
      "id": "604617e0",
      "cell_type": "markdown",
      "source": "\n**Exercice 3.1 — Split/Stack**\n1) Crée `M = arange(24).reshape(4,6)`  \n2) Sépare `M` en 3 blocs verticaux égaux  \n3) Recolle les 3 blocs dans l’ordre `[bloc3, bloc1, bloc2]`\n\n<details>\n<summary>✅ Solution</summary>\n\n```python\nM = np.arange(24).reshape(4,6)\nb1, b2, b3 = np.hsplit(M, 3)\nR = np.hstack([b3, b1, b2])\n(R.shape, R[:2])\n```\n</details>\n",
      "metadata": {}
    },
    {
      "id": "3a6aadca",
      "cell_type": "markdown",
      "source": "\n---\n## 4) Indexation avancée & **boolean masking**\n- Sélection par listes/arrays d’indices\n- Masques booléens (`arr[mask]`)\n- `where`, `nonzero`, `argmax/argmin`, `take`, `put`\n",
      "metadata": {}
    },
    {
      "id": "1476704b",
      "cell_type": "code",
      "metadata": {},
      "execution_count": null,
      "source": "\nrng = np.random.default_rng(42)\narr = rng.integers(0, 20, size=(5,6))\nmask = (arr % 2 == 0) & (arr > 5)\nfiltered = arr[mask]\n\nidx_rows = [0,2,4]\nidx_cols = [1,3]\nsub = arr[np.ix_(idx_rows, idx_cols)]\n\nnp.where(mask, arr, -1)[:2], filtered[:10], sub\n",
      "outputs": []
    },
    {
      "id": "04cec998",
      "cell_type": "markdown",
      "source": "\n**Exercice 4.1 — Nettoyage par masque**  \nÀ partir d’un `arr` aléatoire de shape `(6,6)` dans `[−5, 10]`, remplace **toutes les valeurs négatives** par 0, puis :\n- compte le nombre de zéros\n- calcule la moyenne des valeurs > 0\n\n<details>\n<summary>✅ Solution</summary>\n\n```python\nrng = np.random.default_rng(0)\narr = rng.integers(-5, 11, size=(6,6))\narr[arr < 0] = 0\nzeros = np.count_nonzero(arr == 0)\nmean_pos = arr[arr > 0].mean()\nzeros, mean_pos, arr\n```\n</details>\n",
      "metadata": {}
    },
    {
      "id": "a35d252e",
      "cell_type": "markdown",
      "source": "\n---\n## 5) ufuncs & vectorisation\n- ufuncs élémentaires : `add`, `subtract`, `multiply`, `divide`, `power`, `mod`\n- ufuncs math : `sin`, `cos`, `exp`, `log`, `sqrt`, `abs`…\n- Arguments `out`, `where`, `dtype`\n- Broadcasting : règles d’alignement des shapes\n",
      "metadata": {}
    },
    {
      "id": "7c6047aa",
      "cell_type": "code",
      "metadata": {},
      "execution_count": null,
      "source": "\nx = np.linspace(0, 2*np.pi, 6)\ny = np.sin(x) + np.cos(x/2)\n# broadcasting\nA = np.arange(6).reshape(2,3)   # (2,3)\nb = np.array([10, 100, 1000])   # (3,)\nB = A + b                        # broadcast (2,3)+(3,) -> (2,3)\nx, y, A, b, B\n",
      "outputs": []
    },
    {
      "id": "ecd073e7",
      "cell_type": "markdown",
      "source": "\n**Exercice 5.1 — Normalisation vectorisée**  \nÉcris une fonction `minmax(X)` qui normalise un `ndarray` **sur chaque colonne** dans `[0,1]` (sans boucles Python).\n\n<details>\n<summary>✅ Solution</summary>\n\n```python\ndef minmax(X):\n    X = np.asarray(X, dtype=float)\n    mn = X.min(axis=0, keepdims=True)\n    mx = X.max(axis=0, keepdims=True)\n    return (X - mn) / (mx - mn + 1e-12)\n\nZ = np.arange(12).reshape(4,3)\nminmax(Z)\n```\n</details>\n",
      "metadata": {}
    },
    {
      "id": "f469cee0",
      "cell_type": "markdown",
      "source": "\n---\n## 6) Agrégations, différences, tri, ensembles\n- `sum`, `prod`, `mean`, `std`, `var`, `cumsum`, `cumprod`\n- `diff` (différences discrètes)\n- `sort`, `argsort`, `lexsort`, `partition`, `searchsorted`\n- `unique`, `intersect1d`, `union1d`, `setdiff1d`, `setxor1d`\n",
      "metadata": {}
    },
    {
      "id": "9fe5a58b",
      "cell_type": "code",
      "metadata": {},
      "execution_count": null,
      "source": "\nr = np.array([3, 1, 4, 1, 5, 9, 2])\nprint(\"sum:\", r.sum(), \"| mean:\", r.mean(), \"| std:\", r.std())\nprint(\"cumsum:\", r.cumsum())\nprint(\"diff:\", np.diff(r))\n\nprint(\"sorted:\", np.sort(r))\nprint(\"argsort:\", np.argsort(r))\nprint(\"unique:\", np.unique(r))\n\na = np.array([1,2,3,4])\nb = np.array([3,4,5,6])\nprint(\"intersect:\", np.intersect1d(a,b), \"| union:\", np.union1d(a,b))\n",
      "outputs": []
    },
    {
      "id": "cb156164",
      "cell_type": "markdown",
      "source": "\n**Exercice 6.1 — Tri multi-clés**  \nConstruis deux arrays 1D `keys1` (classe) et `keys2` (note), puis trie des `noms` par **classe croissante puis note décroissante** avec `lexsort` (astuce : trier par `-keys2` pour décroissant).\n\n<details>\n<summary>✅ Solution</summary>\n\n```python\nnoms = np.array([\"Ali\",\"Sara\",\"Yasmin\",\"Youssef\",\"Aya\"])\nclasse = np.array([2,1,1,2,1])\nnote = np.array([14.5, 16.0, 12.0, 13.0, 16.0])\n# lexsort trie du dernier vers le premier\nidx = np.lexsort((-note, classe))\nnoms[idx], classe[idx], note[idx]\n```\n</details>\n",
      "metadata": {}
    },
    {
      "id": "10d2e24a",
      "cell_type": "markdown",
      "source": "\n---\n## 7) Génération aléatoire & distributions (`np.random`)\n- Utiliser l’API moderne `Generator` via `np.random.default_rng(seed)`\n- **Distributions** : `normal`, `uniform`, `binomial`, `poisson`, `exponential`…\n- **Permutation** & **shuffle**\n",
      "metadata": {}
    },
    {
      "id": "218ba40b",
      "cell_type": "code",
      "metadata": {},
      "execution_count": null,
      "source": "\nrng = np.random.default_rng(123)\n\n# Échantillons\nU = rng.uniform(low=-1.0, high=1.0, size=(2,5))\nN = rng.normal(loc=0.0, scale=1.0, size=10)\nB = rng.binomial(n=10, p=0.3, size=6)\nP = rng.poisson(lam=4.0, size=6)\n\n# Permutations\narr = np.arange(8)\nrng.shuffle(arr)     # in-place\nperm = rng.permutation(8)  # renvoie une copie permutée\n\nU, N[:5], B, P, arr, perm\n",
      "outputs": []
    },
    {
      "id": "490be83d",
      "cell_type": "markdown",
      "source": "\n**Exercice 7.1 — Simulation**  \nSimule 10 000 lancers d’un dé **biaisé** (`P(6)=0.3`, autres faces égales) et estime empiriquement la probabilité de chaque face.\n\n<details>\n<summary>✅ Solution</summary>\n\n```python\nrng = np.random.default_rng(7)\np6 = 0.3\np = np.array([ (1-p6)/5 ]*5 + [p6])  # faces 1..6\nsamples = rng.choice(np.arange(1,7), size=10_000, p=p)\ncounts = np.bincount(samples, minlength=7)[1:]  # ignore index 0\ncounts / counts.sum()\n```\n</details>\n",
      "metadata": {}
    },
    {
      "id": "cea196e5",
      "cell_type": "markdown",
      "source": "\n---\n## 8) Fonctions mathématiques & statistiques\n- Logs : `log`, `log10`, `log2`, `log1p`\n- Trigo : `sin`, `cos`, `tan`, `arcsin`, `arccos`, `arctan`, conversions degrés/radians\n- Hyperboliques : `sinh`, `cosh`, `tanh`\n- Stat : `mean`, `median`, percentiles `quantile`, `nan*` (nanmean, nanstd, ...)\n",
      "metadata": {}
    },
    {
      "id": "4628ac84",
      "cell_type": "code",
      "metadata": {},
      "execution_count": null,
      "source": "\nx = np.array([1e-9, 1, 10, 100])\nprint(\"log:\", np.log(x))\nprint(\"log10:\", np.log10(x), \"| log2:\", np.log2(x), \"| log1p:\", np.log1p(x))\n\nang_deg = np.array([0, 30, 90])\nang_rad = np.deg2rad(ang_deg)\nprint(\"sin:\", np.sin(ang_rad), \"| back to deg:\", np.rad2deg(ang_rad))\n\nw = np.array([1, np.nan, 3, np.nan, 5])\nnp.nanmean(w), np.nanstd(w), np.quantile(np.nan_to_num(w, nan=0.0), [0.25, 0.5, 0.75])\n",
      "outputs": []
    },
    {
      "id": "e701bd5b",
      "cell_type": "markdown",
      "source": "\n**Exercice 8.1 — Z-score**  \nÉcris une fonction `zscore(x, axis=None)` qui standardise `x` : `(x-mean)/std` en ignorant les `NaN`.\n\n<details>\n<summary>✅ Solution</summary>\n\n```python\ndef zscore(x, axis=None, eps=1e-12):\n    x = np.asarray(x, dtype=float)\n    mu = np.nanmean(x, axis=axis, keepdims=True)\n    sd = np.nanstd(x, axis=axis, keepdims=True)\n    return (x - mu) / (sd + eps)\n\nX = np.array([[1,2,np.nan],[4,5,6]], dtype=float)\nzscore(X, axis=0)\n```\n</details>\n",
      "metadata": {}
    },
    {
      "id": "187d33d3",
      "cell_type": "markdown",
      "source": "\n---\n## 9) Algèbre linéaire (`np.linalg`)\n- Transposée, diagonale, trace\n- Produit matriciel : `@` ou `np.matmul`\n- Déterminant `det`, inverse `inv`\n- Système linéaire `solve`\n- Valeurs/vecteurs propres `eig`\n- Normes `norm`, rang `matrix_rank`\n- SVD `svd`\n",
      "metadata": {}
    },
    {
      "id": "5ac8b3c4",
      "cell_type": "code",
      "metadata": {},
      "execution_count": null,
      "source": "\nimport numpy as np\nfrom numpy.linalg import det, inv, eig, norm, matrix_rank, solve, svd\n\nA = np.array([[3., 1.], [2., 4.]])\nb = np.array([7., 10.])\n\n# Opérations de base\ntrace = np.trace(A)\nprod = A @ A\nd = det(A)\nA_inv = inv(A)\nx = solve(A, b)            # solution du système Ax=b\n\nw, V = eig(A)              # valeurs/vecteurs propres\nr = matrix_rank(A)\nU, S, VT = svd(A)          # SVD\n\n(trace, d, x, w, r, S)\n",
      "outputs": []
    },
    {
      "id": "019ddedc",
      "cell_type": "markdown",
      "source": "\n**Exercice 9.1 — Inversibilité & conditionnement**  \n1) Écris une fonction `is_invertible(M, tol=1e-12)` qui teste `det(M)` vs 0.  \n2) Estime la **sensibilité** d’une résolution `Ax=b` en ajoutant un petit bruit à `A` et en comparant la variation de la solution.\n \n<details>\n<summary>✅ Solution (idée)</summary>\n\n```python\nfrom numpy.linalg import det, solve, norm\n\ndef is_invertible(M, tol=1e-12):\n    return abs(det(M)) > tol\n\nrng = np.random.default_rng(0)\nA = np.array([[3.,1.],[2.,4.]])\nb = np.array([7.,10.])\nx = solve(A,b)\n\nnoise = rng.normal(0, 1e-4, size=A.shape)\nx_pert = solve(A+noise, b)\nrelative_change = norm(x_pert - x) / (norm(x) + 1e-12)\nis_invertible(A), relative_change\n```\n</details>\n",
      "metadata": {}
    },
    {
      "id": "2592b36e",
      "cell_type": "markdown",
      "source": "\n---\n## 10) 🧭 Récapitulatif express\n- `ndarray` homogène ; maîtriser shape/ndim/dtype/size\n- Indexation **et** slicing → **views** vs **copies**\n- **Vectorisation** et **broadcasting** : éviter les boucles Python\n- Génération aléatoire avec `Generator`\n- `np.linalg` pour l’algèbre linéaire\n",
      "metadata": {}
    },
    {
      "id": "62ac4238",
      "cell_type": "markdown",
      "source": "\n## 11) 📝 Quiz rapide\n1) Quelle est la différence entre `ravel()` et `flatten()` ?  \n2) Que fait `np.where(cond, A, B)` ?  \n3) Explique la règle de **broadcasting** sur `(2,1)` + `(1,3)`.  \n4) Quelle est la relation entre `@` et `np.matmul` ?  \n5) Pourquoi `np.random.default_rng()` est recommandé par rapport à l’ancienne API ?\n\n<details>\n<summary>✅ Corrigé</summary>\n\n1) `ravel()` renvoie une **vue** si possible ; `flatten()` renvoie une **copie**.  \n2) Sélectionne élément par élément `A` si `cond` vrai, sinon `B`.  \n3) Les dimensions de taille 1 sont étendues : résultat `(2,3)`.  \n4) Ce sont deux interfaces du **produit matriciel**.  \n5) API moderne, indépendante de l’état global, meilleure reproductibilité.\n</details>\n",
      "metadata": {}
    },
    {
      "id": "9d2af66c",
      "cell_type": "markdown",
      "source": "\n## 12) 🎯 Mini-projet — *Pipeline NumPy sans Pandas*\n**Tâche** :  \nÀ partir d’une matrice `X` simulée (shape `(1000, 5)`), réaliser :  \n1) **Nettoyage** : remplacer les valeurs manquantes (`NaN`) par la moyenne **colonne**.  \n2) **Standardisation** : `z-score` colonne par colonne.  \n3) **Réduction** : projeter `X` sur 2 composantes via **SVD** (approximation PCA sans scikit).  \n4) **Clustering rudimentaire** : assigner chaque point au **centroïde** le plus proche parmi 3 centroïdes initiaux choisis aléatoirement (1 itération).  \n5) **Rapport** : afficher les tailles de clusters et la variance expliquée approchée par les 2 premières valeurs singulières.\n\n*(Objectif : réinvestir ufuncs, masques, `nan*`, `linalg` et broadcasting.)*\n",
      "metadata": {}
    },
    {
      "id": "6eaf9330",
      "cell_type": "code",
      "metadata": {},
      "execution_count": null,
      "source": "\nimport numpy as np\n\nrng = np.random.default_rng(123)\n# 1) Données simulées avec quelques NaN\nX = rng.normal(0, 1, size=(1000, 5))\nmask_nan = rng.random(X.shape) < 0.05\nX[mask_nan] = np.nan\n\n# Remplacer NaN par moyenne colonne\ncol_mean = np.nanmean(X, axis=0, keepdims=True)\ninds = np.where(np.isnan(X))\nX[inds] = np.take(col_mean, inds[1])\n\n# 2) Standardisation (z-score)\nmu = X.mean(axis=0, keepdims=True)\nsd = X.std(axis=0, keepdims=True) + 1e-12\nZ = (X - mu) / sd\n\n# 3) SVD (approx PCA)\nU, S, VT = np.linalg.svd(Z, full_matrices=False)\nZ2 = U[:, :2] * S[:2]  # projection en 2D\nexplained = (S[:2]**2).sum() / (S**2).sum()\n\n# 4) Clustering 1-iter sur 3 centroïdes aléatoires\nk = 3\ncentroids = Z2[rng.choice(len(Z2), size=k, replace=False)]\n# distances (N,k)\nd2 = ((Z2[:, None, :] - centroids[None, :, :])**2).sum(axis=2)\nlabels = d2.argmin(axis=1)\n\n# 5) Rapport\nsizes = np.bincount(labels, minlength=k)\nexplained, sizes, centroids\n",
      "outputs": []
    },
    {
      "id": "d028d699",
      "cell_type": "markdown",
      "source": "\n---\n## 📚 Ressources\n- NumPy docs : https://numpy.org/doc/  \n- Random Generator : https://numpy.org/doc/stable/reference/random/  \n- Linear algebra : https://numpy.org/doc/stable/reference/routines.linalg.html  \n\n**Prochain notebook** : **Matplotlib — Visualisation 2D/3D** (puis **SciPy**, **Pandas**)\n",
      "metadata": {}
    }
  ]
}