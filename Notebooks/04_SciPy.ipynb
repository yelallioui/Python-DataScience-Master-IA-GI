{
  "nbformat": 4,
  "nbformat_minor": 5,
  "metadata": {
    "kernelspec": {
      "display_name": "Python 3",
      "language": "python",
      "name": "python3"
    },
    "language_info": {
      "name": "python",
      "pygments_lexer": "ipython3"
    },
    "colab": {
      "name": "SciPy_Calcul_Scientifique_Applique.ipynb",
      "provenance": []
    }
  },
  "cells": [
    {
      "id": "f5688f9a",
      "cell_type": "markdown",
      "source": "\n# ⚙️ SciPy — Calcul scientifique appliqué\n_Master IA-GI — Notebook 5_\n\nCe notebook suit la structure de votre support **SciPy** et met l'accent sur les sous-modules clés :  \n`scipy.linalg`, `scipy.optimize`, `scipy.integrate`, `scipy.interpolate`, `scipy.stats`, `scipy.signal`, `scipy.fft`, `scipy.spatial`, `scipy.ndimage`.\n\n**Objectifs d’apprentissage**\n- Résoudre des problèmes classiques de **calcul scientifique** avec SciPy\n- Comprendre quand utiliser **SciPy vs NumPy**\n- Appliquer **optimisation**, **intégration**, **interpolation**, **statistiques**, **signal/FFT**, **spatial**, **imagerie**\n- Construire un mini‑projet intégrant plusieurs briques SciPy\n\n**Pré-requis** : NumPy (Notebook 3) + Matplotlib (Notebook 4)  \n**Durée estimée** : 3–4h\n",
      "metadata": {}
    },
    {
      "id": "5e22c29f",
      "cell_type": "markdown",
      "source": "\n---\n## 0) ⚙️ Préparation\n",
      "metadata": {}
    },
    {
      "id": "f6adead5",
      "cell_type": "code",
      "metadata": {},
      "execution_count": null,
      "source": "\nimport numpy as np\nimport matplotlib.pyplot as plt\n\nimport scipy\nfrom scipy import linalg, optimize, integrate, interpolate, stats, signal, fft, spatial, ndimage\n\nprint(\"NumPy:\", np.__version__)\nprint(\"SciPy:\", scipy.__version__)\n",
      "outputs": []
    },
    {
      "id": "77ac6d04",
      "cell_type": "markdown",
      "source": "\n---\n## 1) `scipy.linalg` vs `numpy.linalg`\n### 1.1 Décompositions & solveurs\n",
      "metadata": {}
    },
    {
      "id": "a8b69701",
      "cell_type": "code",
      "metadata": {},
      "execution_count": null,
      "source": "\nfrom scipy.linalg import lu, lu_factor, lu_solve, cholesky, qr, svd\n\nA = np.array([[4., 2., 0.],\n              [2., 4., 2.],\n              [0., 2., 4.]])\nb = np.array([2., 4., 6.])\n\nP, L, U = lu(A)\nlu_piv = lu_factor(A)\nx_lu = lu_solve(lu_piv, b)\n\nLchol = cholesky(A, lower=True)\nQ, R = qr(A)\nU_s, S_s, Vt_s = svd(A)\n\nx_lu, np.allclose(A@x_lu, b), np.allclose(A, Q@R)\n",
      "outputs": []
    },
    {
      "id": "68f7bc7b",
      "cell_type": "markdown",
      "source": "\n**Exercice 1.1 — Conditionnement**\n<details>\n<summary>✅ Solution</summary>\n\n```python\nfrom numpy.linalg import norm\ncondA = np.linalg.cond(A)\nrng = np.random.default_rng(0)\nnoise = rng.normal(0, 1e-4, size=A.shape)\nx0 = np.linalg.solve(A, b)\nx1 = np.linalg.solve(A + noise, b)\nrelative_change = norm(x1 - x0) / (norm(x0) + 1e-12)\ncondA, relative_change\n```\n</details>\n",
      "metadata": {}
    },
    {
      "id": "383528c0",
      "cell_type": "markdown",
      "source": "\n---\n## 2) `scipy.optimize` — Optimisation\n### 2.1 Minimisation non contrainte\n",
      "metadata": {}
    },
    {
      "id": "5f0db776",
      "cell_type": "code",
      "metadata": {},
      "execution_count": null,
      "source": "\nfrom scipy.optimize import minimize\n\ndef f(x):\n    return (x[0]-1)**2 + 5*(x[1]-2)**2\n\nx0 = np.array([0.0, 0.0])\nres = minimize(f, x0, method=\"BFGS\")\nres.x, res.fun, res.success\n",
      "outputs": []
    },
    {
      "id": "b394a93c",
      "cell_type": "markdown",
      "source": "\n### 2.2 Contraintes & bornes\n",
      "metadata": {}
    },
    {
      "id": "5dd04e00",
      "cell_type": "code",
      "metadata": {},
      "execution_count": null,
      "source": "\nfrom scipy.optimize import Bounds, LinearConstraint\n\ndef f2(v):\n    x, y = v\n    return (x-1)**2 + (y-2)**2\n\nbounds = Bounds([0,0], [np.inf, np.inf])\nA = np.array([[1,1]])\nlc = LinearConstraint(A, [3], [3])\n\nres2 = minimize(f2, x0=[0.1, 2.9], method=\"trust-constr\", bounds=bounds, constraints=[lc])\nres2.x, res2.fun, res2.success\n",
      "outputs": []
    },
    {
      "id": "65167884",
      "cell_type": "markdown",
      "source": "\n### 2.3 Recherche de racines\n",
      "metadata": {}
    },
    {
      "id": "bf531efe",
      "cell_type": "code",
      "metadata": {},
      "execution_count": null,
      "source": "\nfrom scipy.optimize import root_scalar\n\ng = lambda x: np.cos(x) - x\nsol = root_scalar(g, bracket=[0, 1])\nsol.root, sol.converged\n",
      "outputs": []
    },
    {
      "id": "2931bd02",
      "cell_type": "markdown",
      "source": "\n---\n## 3) `scipy.integrate` — Intégration & EDO\n### 3.1 Quadrature simple\n",
      "metadata": {}
    },
    {
      "id": "19a46579",
      "cell_type": "code",
      "metadata": {},
      "execution_count": null,
      "source": "\nfrom scipy.integrate import quad\nh = lambda x: np.sin(x) / x if x != 0 else 1.0\nI, err = quad(h, 0, np.inf, limit=200)\nI, err\n",
      "outputs": []
    },
    {
      "id": "de8e5777",
      "cell_type": "markdown",
      "source": "\n### 3.2 EDO avec `solve_ivp`\n",
      "metadata": {}
    },
    {
      "id": "8ac30a32",
      "cell_type": "code",
      "metadata": {},
      "execution_count": null,
      "source": "\nfrom scipy.integrate import solve_ivp\n\ndef f_ode(t, y):\n    return -y + np.sin(t)\n\nsol = solve_ivp(f_ode, t_span=(0, 10), y0=[1.0], t_eval=np.linspace(0,10,200))\nplt.figure()\nplt.plot(sol.t, sol.y[0])\nplt.title(\"EDO: y'=-y+sin(t)\")\nplt.xlabel(\"t\"); plt.ylabel(\"y(t)\")\nplt.tight_layout()\n",
      "outputs": []
    },
    {
      "id": "2daf9acc",
      "cell_type": "markdown",
      "source": "\n---\n## 4) `scipy.interpolate` — Interpolation\n### 4.1 Interp 1D\n",
      "metadata": {}
    },
    {
      "id": "ce04c008",
      "cell_type": "code",
      "metadata": {},
      "execution_count": null,
      "source": "\nfrom scipy.interpolate import interp1d\n\nx = np.linspace(0, 10, 11)\ny = np.sin(x)\nf_lin = interp1d(x, y, kind=\"linear\")\nxx = np.linspace(0, 10, 200)\nplt.figure()\nplt.plot(x, y, 'o')\nplt.plot(xx, f_lin(xx))\nplt.title(\"Interpolation 1D (linéaire)\")\nplt.xlabel(\"x\"); plt.ylabel(\"y\")\nplt.tight_layout()\n",
      "outputs": []
    },
    {
      "id": "4446bf09",
      "cell_type": "code",
      "metadata": {},
      "execution_count": null,
      "source": "\n# Cubique (graphe séparé)\nf_cub = interp1d(x, y, kind=\"cubic\")\nxx = np.linspace(0, 10, 200)\nplt.figure()\nplt.plot(x, y, 'o')\nplt.plot(xx, f_cub(xx))\nplt.title(\"Interpolation 1D (cubique)\")\nplt.xlabel(\"x\"); plt.ylabel(\"y\")\nplt.tight_layout()\n",
      "outputs": []
    },
    {
      "id": "22b8fd42",
      "cell_type": "markdown",
      "source": "\n---\n## 5) `scipy.stats` — Statistiques & tests\n",
      "metadata": {}
    },
    {
      "id": "e817ab25",
      "cell_type": "code",
      "metadata": {},
      "execution_count": null,
      "source": "\nfrom scipy import stats\nrng = np.random.default_rng(123)\nsample = rng.normal(loc=0.0, scale=1.0, size=200)\nmu = sample.mean()\nsd = sample.std(ddof=1)\nci = stats.t.interval(confidence=0.95, df=len(sample)-1, loc=mu, scale=sd/np.sqrt(len(sample)))\nmu, sd, ci\n",
      "outputs": []
    },
    {
      "id": "8bb82eef",
      "cell_type": "code",
      "metadata": {},
      "execution_count": null,
      "source": "\n# t-test & comparaison de moyennes\ng1 = rng.normal(0.2, 1.0, 120)\ng2 = rng.normal(0.5, 1.1, 130)\nt2, p2 = stats.ttest_ind(g1, g2, equal_var=False)\nt2, p2\n",
      "outputs": []
    },
    {
      "id": "48965f2f",
      "cell_type": "markdown",
      "source": "\n---\n## 6) `scipy.signal` & `scipy.fft`\n",
      "metadata": {}
    },
    {
      "id": "3c3e3444",
      "cell_type": "code",
      "metadata": {},
      "execution_count": null,
      "source": "\nfrom scipy.signal import butter, filtfilt\nfrom scipy import fft\n\nfs = 200.0\nt = np.arange(0, 2.0, 1/fs)\nx = np.sin(2*np.pi*5*t) + 0.5*np.sin(2*np.pi*30*t) + 0.8*np.random.default_rng(0).normal(0,1,t.size)\n\nb, a = butter(N=4, Wn=10/(0.5*fs), btype='low')\ny = filtfilt(b, a, x)\n\nplt.figure()\nplt.plot(t, x)\nplt.title(\"Signal bruité\")\nplt.xlabel(\"t (s)\"); plt.ylabel(\"x(t)\")\nplt.tight_layout()\n\nplt.figure()\nplt.plot(t, y)\nplt.title(\"Signal filtré (10 Hz)\")\nplt.xlabel(\"t (s)\"); plt.ylabel(\"y(t)\")\nplt.tight_layout()\n\nY = fft.rfft(y)\nF = fft.rfftfreq(t.size, d=1/fs)\nplt.figure()\nplt.plot(F, np.abs(Y)/len(Y))\nplt.title(\"Spectre amplitude\")\nplt.xlabel(\"Fréquence (Hz)\"); plt.ylabel(\"Amplitude\")\nplt.tight_layout()\n",
      "outputs": []
    },
    {
      "id": "625bf7b9",
      "cell_type": "markdown",
      "source": "\n---\n## 7) `scipy.spatial` — KD‑Tree & distances\n",
      "metadata": {}
    },
    {
      "id": "52fb8e5e",
      "cell_type": "code",
      "metadata": {},
      "execution_count": null,
      "source": "\nfrom scipy.spatial import cKDTree, distance\n\nrng = np.random.default_rng(123)\npts = rng.normal(size=(200, 2))\ntree = cKDTree(pts)\ndists, idx = tree.query(pts[0], k=5)\nD = distance.pdist(pts[:10], metric=\"euclidean\")\ndists[:3], idx[:3], D[:5]\n",
      "outputs": []
    },
    {
      "id": "9e5e6ad6",
      "cell_type": "markdown",
      "source": "\n---\n## 8) `scipy.ndimage` — imagerie N-D\n",
      "metadata": {}
    },
    {
      "id": "0e900f08",
      "cell_type": "code",
      "metadata": {},
      "execution_count": null,
      "source": "\nfrom scipy import ndimage as ndi\n\nrng = np.random.default_rng(0)\nimg = (rng.random((200, 200)) > 0.97).astype(float)\nimg = ndi.gaussian_filter(img, sigma=1.0)\n\nbinary = img > (img.mean() + img.std())\nlabels, n = ndi.label(binary)\n\nplt.figure()\nplt.imshow(img, origin=\"lower\")\nplt.title(\"Image floutée\")\nplt.tight_layout()\n\nplt.figure()\nplt.imshow(binary, origin=\"lower\")\nplt.title(\"Seuillage\")\nplt.tight_layout()\n\nn\n",
      "outputs": []
    },
    {
      "id": "bd6603a8",
      "cell_type": "markdown",
      "source": "\n---\n## 9) 🎯 Mini‑projet — *Chaîne SciPy*\n1) Filtrer un signal bruité (Butterworth)  \n2) Identifier la fréquence dominante (FFT)  \n3) Ajuster une sinusoïde via `optimize.minimize`  \n4) Estimer un IC 95% pour l’amplitude (bootstrap)  \n5) Tracer 3 figures séparées (brut, filtré, spectre) et afficher les paramètres\n",
      "metadata": {}
    },
    {
      "id": "bd9d8fb4",
      "cell_type": "code",
      "metadata": {},
      "execution_count": null,
      "source": "\nimport numpy as np\nimport matplotlib.pyplot as plt\nfrom scipy.signal import butter, filtfilt\nfrom scipy import fft, optimize, stats\n\nrng = np.random.default_rng(123)\nfs = 250.0\nt = np.arange(0, 3.0, 1/fs)\ntrue_f = 7.5\ntrue_A = 2.0\ntrue_phi = 0.4\nx_clean = true_A*np.sin(2*np.pi*true_f*t + true_phi)\nx = x_clean + 0.6*rng.normal(0, 1, size=t.size)\n\nb, a = butter(4, 20/(0.5*fs), btype=\"low\")\ny = filtfilt(b, a, x)\n\nY = fft.rfft(y)\nF = fft.rfftfreq(t.size, d=1/fs)\nf0 = F[np.argmax(np.abs(Y))]\n\ndef model(params, t):\n    A, phi = params\n    return A*np.sin(2*np.pi*f0*t + phi)\n\ndef mse(params):\n    return np.mean((y - model(params, t))**2)\n\nres = optimize.minimize(mse, x0=[1.0, 0.0])\nA_hat, phi_hat = res.x\n\ndef stat_func(data, axis):\n    t, y = data\n    def mseA(params):\n        A, phi = params\n        return np.mean((y - (A*np.sin(2*np.pi*f0*t + phi)))**2)\n    r = optimize.minimize(mseA, x0=[1.0, 0.0])\n    return r.x[0]\n\ndata = (t, y)\nboot = stats.bootstrap((data,), stat_func, vectorized=False, n_resamples=200, paired=True, confidence_level=0.95, method=\"basic\")\nci_A = boot.confidence_interval\n\nplt.figure()\nplt.plot(t, x)\nplt.title(\"Signal brut\")\nplt.xlabel(\"t (s)\"); plt.ylabel(\"x(t)\")\nplt.tight_layout()\n\nplt.figure()\nplt.plot(t, y)\nplt.title(\"Signal filtré (low-pass)\")\nplt.xlabel(\"t (s)\"); plt.ylabel(\"y(t)\")\nplt.tight_layout()\n\nplt.figure()\nplt.plot(F, np.abs(Y)/len(Y))\nplt.title(\"Spectre (amplitude)\")\nplt.xlabel(\"Fréquence (Hz)\"); plt.ylabel(\"Amplitude\")\nplt.tight_layout()\n\n(A_hat, phi_hat, f0, (ci_A.low, ci_A.high))\n",
      "outputs": []
    },
    {
      "id": "e4cc3e81",
      "cell_type": "markdown",
      "source": "\n---\n## 📚 Ressources\n- https://docs.scipy.org/doc/scipy/\n",
      "metadata": {}
    }
  ]
}