{
  "nbformat": 4,
  "nbformat_minor": 5,
  "metadata": {
    "kernelspec": {
      "display_name": "Python 3",
      "language": "python",
      "name": "python3"
    },
    "language_info": {
      "name": "python",
      "pygments_lexer": "ipython3"
    },
    "colab": {
      "name": "Visualisation_Seaborn.ipynb",
      "provenance": []
    }
  },
  "cells": [
    {
      "id": "424b715e",
      "cell_type": "markdown",
      "source": "\n# 🎨 Visualisation des données — Seaborn (statistiques & styles haut-niveau)\n_Master IA-GI — Notebook 4 (Partie 2)_\n\nCe notebook complète Matplotlib en s'appuyant sur **Seaborn** pour des graphiques statistiques haut-niveau (thèmes, palettes, facettes, estimateurs).  \nOn y retrouve des **exemples concrets**, des **exercices avec hints/solutions**, et un **mini-projet** d'EDA rapide.\n\n**Objectifs d’apprentissage**\n- Utiliser `seaborn` avec les **datasets intégrés** (tips, penguins, iris, flights)\n- Maîtriser les **graphiques relationnels** (`scatterplot`, `lineplot`) et **catégoriels** (`barplot`, `countplot`, `boxplot`, `violinplot`, `swarmplot`)\n- Visualiser les **distributions** (`histplot`, `kdeplot`, `ecdfplot`, `jointplot`, `pairplot`)\n- Réaliser des **régressions** (`regplot`, `lmplot`)\n- Construire des **facettes** (`FacetGrid`, `relplot`, `catplot`)\n- Exploiter le **styling** (thèmes, contextes, palettes) et intégrer avec Matplotlib pour exporter des figures propres\n\n**Pré-requis** : Matplotlib (Partie 1)  \n**Durée estimée** : 3h\n",
      "metadata": {}
    },
    {
      "id": "1a8914a3",
      "cell_type": "markdown",
      "source": "\n---\n## 0) ⚙️ Préparation\n",
      "metadata": {}
    },
    {
      "id": "6f081b21",
      "cell_type": "code",
      "metadata": {},
      "execution_count": null,
      "source": "\nimport numpy as np\nimport pandas as pd\n\n# Installer seaborn si besoin (en Colab)\ntry:\n    import seaborn as sns  # noqa: F401\nexcept Exception:\n    !pip -q install seaborn\n\nimport seaborn as sns\nimport matplotlib.pyplot as plt\n\nprint(\"Seaborn:\", sns.__version__, \"| Pandas:\", pd.__version__)\nsns.set_theme()  # thème par défaut agréable\n",
      "outputs": []
    },
    {
      "id": "dde00397",
      "cell_type": "markdown",
      "source": "\n---\n## 1) Datasets intégrés & aperçu rapide\n> Seaborn propose des datasets pédagogiques : `tips`, `penguins`, `iris`, `flights`, `titanic`, `diamonds`, etc.\n",
      "metadata": {}
    },
    {
      "id": "586e11ea",
      "cell_type": "code",
      "metadata": {},
      "execution_count": null,
      "source": "\ntips = sns.load_dataset(\"tips\")\npenguins = sns.load_dataset(\"penguins\")\niris = sns.load_dataset(\"iris\")\nflights = sns.load_dataset(\"flights\")\n\ntips.head(), penguins.head(), iris.head(), flights.head()\n",
      "outputs": []
    },
    {
      "id": "0a02f460",
      "cell_type": "markdown",
      "source": "\n---\n## 2) Graphiques relationnels (`scatterplot`, `lineplot`)\n",
      "metadata": {}
    },
    {
      "id": "641b8bc5",
      "cell_type": "code",
      "metadata": {},
      "execution_count": null,
      "source": "\n# Scatter: relation total_bill vs tip, styled by sex & time\nax = sns.scatterplot(data=tips, x=\"total_bill\", y=\"tip\", hue=\"sex\", style=\"time\")\nax.set_title(\"Pourboire en fonction de l'addition\")\nplt.tight_layout()\n",
      "outputs": []
    },
    {
      "id": "22bffd49",
      "cell_type": "code",
      "metadata": {},
      "execution_count": null,
      "source": "\n# Line: moyenne mensuelle des passagers (flights), avec intervalle de confiance\ndf = flights.pivot(index=\"month\", columns=\"year\", values=\"passengers\").reset_index().melt(id_vars=\"month\", var_name=\"year\", value_name=\"passengers\")\nax = sns.lineplot(data=df, x=\"month\", y=\"passengers\", hue=\"year\", estimator=None)\nax.set_title(\"Passagers par mois et par année\")\nplt.xticks(rotation=45)\nplt.tight_layout()\n",
      "outputs": []
    },
    {
      "id": "944bf269",
      "cell_type": "markdown",
      "source": "\n**Exercice 2.1 — Scatter coloré**\nAvec `penguins`, trace `bill_length_mm` vs `bill_depth_mm` coloré par `species` et pointillé par `sex` (si dispo).\n\n<details>\n<summary>✅ Solution</summary>\n\n```python\nax = sns.scatterplot(data=penguins, x=\"bill_length_mm\", y=\"bill_depth_mm\", hue=\"species\", style=\"sex\")\nax.set_title(\"Morphologie des manchots\")\nplt.tight_layout()\n```\n</details>\n",
      "metadata": {}
    },
    {
      "id": "7f5d24be",
      "cell_type": "markdown",
      "source": "\n---\n## 3) Graphiques catégoriels (`barplot`, `countplot`, `boxplot`, `violinplot`, `swarmplot`)\n",
      "metadata": {}
    },
    {
      "id": "336cd7d4",
      "cell_type": "code",
      "metadata": {},
      "execution_count": null,
      "source": "\n# barplot (avec estimateur par défaut = moyenne, IC 95%)\nax = sns.barplot(data=tips, x=\"day\", y=\"tip\", hue=\"sex\")\nax.set_title(\"Tip moyen par jour et par sexe\")\nplt.tight_layout()\n",
      "outputs": []
    },
    {
      "id": "0649d4a6",
      "cell_type": "code",
      "metadata": {},
      "execution_count": null,
      "source": "\n# countplot (effectifs par catégorie)\nax = sns.countplot(data=tips, x=\"day\", hue=\"time\")\nax.set_title(\"Nombre d'observations par jour et service\")\nplt.tight_layout()\n",
      "outputs": []
    },
    {
      "id": "7180b9db",
      "cell_type": "code",
      "metadata": {},
      "execution_count": null,
      "source": "\nfig, axes = plt.subplots(1, 3, figsize=(12, 4), sharey=True)\nsns.boxplot(data=tips, x=\"day\", y=\"total_bill\", ax=axes[0])\naxes[0].set_title(\"Boxplot\")\nsns.violinplot(data=tips, x=\"day\", y=\"total_bill\", ax=axes[1])\naxes[1].set_title(\"Violinplot\")\nsns.swarmplot(data=tips, x=\"day\", y=\"total_bill\", ax=axes[2], size=3)\naxes[2].set_title(\"Swarmplot\")\nfig.suptitle(\"Distributions par jour\")\nfig.tight_layout()\n",
      "outputs": []
    },
    {
      "id": "49b031a2",
      "cell_type": "markdown",
      "source": "\n**Exercice 3.1 — Ordre & palette**  \nRefais un `barplot` de `total_bill` par `day` **trié** par moyenne décroissante et applique une **palette** colorée.\n\n<details>\n<summary>💡 Hint</summary>\nUtilise `order=...` après avoir calculé des moyennes, et `palette=\"viridis\"` (par ex.).\n</details>\n<details>\n<summary>✅ Solution</summary>\n\n```python\norder = tips.groupby(\"day\")[\"total_bill\"].mean().sort_values(ascending=False).index\nax = sns.barplot(data=tips, x=\"day\", y=\"total_bill\", order=order, palette=\"viridis\")\nax.set_title(\"Addition moyenne par jour (triée)\")\nplt.tight_layout()\n```\n</details>\n",
      "metadata": {}
    },
    {
      "id": "11abb0a2",
      "cell_type": "markdown",
      "source": "\n---\n## 4) Distributions (`histplot`, `kdeplot`, `ecdfplot`, `jointplot`, `pairplot`)\n",
      "metadata": {}
    },
    {
      "id": "74a41532",
      "cell_type": "code",
      "metadata": {},
      "execution_count": null,
      "source": "\nfig, axes = plt.subplots(1, 3, figsize=(12, 3.5))\nsns.histplot(tips, x=\"total_bill\", kde=True, ax=axes[0])\naxes[0].set_title(\"Hist + KDE\")\n\nsns.ecdfplot(data=tips, x=\"total_bill\", ax=axes[1])\naxes[1].set_title(\"ECDF\")\n\n# jointplot retourne sa propre figure\ng = sns.jointplot(data=tips, x=\"total_bill\", y=\"tip\", kind=\"hex\")\ng.fig.suptitle(\"Jointplot hex\", y=1.02)\n\nplt.tight_layout()\n",
      "outputs": []
    },
    {
      "id": "2ad130cc",
      "cell_type": "code",
      "metadata": {},
      "execution_count": null,
      "source": "\n# Pairplot : matrice de scatter/diag distributions par espèce\ng = sns.pairplot(penguins.dropna(), hue=\"species\", corner=True, diag_kind=\"kde\")\ng.fig.suptitle(\"Pairplot Penguins\", y=1.02)\n",
      "outputs": []
    },
    {
      "id": "1ae29b3b",
      "cell_type": "markdown",
      "source": "\n---\n## 5) Régression (`regplot`, `lmplot`)\n",
      "metadata": {}
    },
    {
      "id": "cbeeaa0c",
      "cell_type": "code",
      "metadata": {},
      "execution_count": null,
      "source": "\nax = sns.regplot(data=tips, x=\"total_bill\", y=\"tip\")\nax.set_title(\"Régression linéaire: tip ~ total_bill\")\nplt.tight_layout()\n",
      "outputs": []
    },
    {
      "id": "f6827be3",
      "cell_type": "code",
      "metadata": {},
      "execution_count": null,
      "source": "\n# lmplot = FacetGrid + regplot (supporte hue/col/row)\ng = sns.lmplot(data=tips, x=\"total_bill\", y=\"tip\", hue=\"sex\", col=\"time\")\ng.fig.suptitle(\"lmplot avec facettes\", y=1.02)\n",
      "outputs": []
    },
    {
      "id": "7ab81953",
      "cell_type": "markdown",
      "source": "\n---\n## 6) Matrices : `heatmap`, `clustermap`\n",
      "metadata": {}
    },
    {
      "id": "727ad88f",
      "cell_type": "code",
      "metadata": {},
      "execution_count": null,
      "source": "\n# Corrélation sur iris\ncorr = iris.drop(columns=[\"species\"]).corr(numeric_only=True)\nax = sns.heatmap(corr, annot=True, fmt=\".2f\", cmap=\"coolwarm\", square=True)\nax.set_title(\"Corrélation (iris)\")\nplt.tight_layout()\n",
      "outputs": []
    },
    {
      "id": "5059a548",
      "cell_type": "code",
      "metadata": {},
      "execution_count": null,
      "source": "\n# Clustermap sur les passagers par mois/année\nfl = flights.pivot(index=\"month\", columns=\"year\", values=\"passengers\")\ng = sns.clustermap(fl, cmap=\"mako\", standard_scale=0)\ng.fig.suptitle(\"Clustermap Flights\", y=1.02)\n",
      "outputs": []
    },
    {
      "id": "d81778e9",
      "cell_type": "markdown",
      "source": "\n---\n## 7) Facettes : `FacetGrid`, `relplot`, `catplot`\n",
      "metadata": {}
    },
    {
      "id": "f91b3543",
      "cell_type": "code",
      "metadata": {},
      "execution_count": null,
      "source": "\ng = sns.FacetGrid(tips, col=\"time\", row=\"smoker\", margin_titles=True)\ng.map_dataframe(sns.scatterplot, x=\"total_bill\", y=\"tip\", alpha=0.7)\ng.add_legend()\ng.fig.suptitle(\"FacetGrid: tips\", y=1.02)\n",
      "outputs": []
    },
    {
      "id": "2ae827fe",
      "cell_type": "code",
      "metadata": {},
      "execution_count": null,
      "source": "\n# Interfaces haut-niveau relplot/catplot\ng = sns.relplot(data=penguins, x=\"bill_length_mm\", y=\"bill_depth_mm\", hue=\"species\", col=\"island\")\ng.fig.suptitle(\"relplot Penguins\", y=1.02)\n\ng2 = sns.catplot(data=tips, x=\"day\", y=\"total_bill\", hue=\"sex\", kind=\"violin\")\ng2.fig.suptitle(\"catplot Violin\", y=1.02)\n",
      "outputs": []
    },
    {
      "id": "caa37f36",
      "cell_type": "markdown",
      "source": "\n---\n## 8) Thèmes, palettes, contextes (`set_theme`, `set_style`, `set_context`)\n",
      "metadata": {}
    },
    {
      "id": "4a6354e0",
      "cell_type": "code",
      "metadata": {},
      "execution_count": null,
      "source": "\n# Styles disponibles : white, dark, whitegrid, darkgrid, ticks\nsns.set_style(\"whitegrid\")\nsns.set_context(\"talk\")  # tailles adaptées aux slides\nsns.set_palette(\"deep\")\n\nax = sns.barplot(data=tips, x=\"day\", y=\"tip\", hue=\"sex\")\nax.set_title(\"Style whitegrid + context talk\")\nplt.tight_layout()\n\n# Reset (optionnel) : sns.reset_defaults(); sns.set_theme()\n",
      "outputs": []
    },
    {
      "id": "9e473f5c",
      "cell_type": "markdown",
      "source": "\n**Exercice 8.1 — Thème personnalisé**  \nApplique `set_style(\"ticks\")`, `set_context(\"paper\")`, et une palette `\"rocket\"` puis refais un `scatterplot` des `penguins` coloré par `species`.\n\n<details>\n<summary>✅ Solution</summary>\n\n```python\nsns.set_style(\"ticks\")\nsns.set_context(\"paper\")\nsns.set_palette(\"rocket\")\nax = sns.scatterplot(data=penguins, x=\"bill_length_mm\", y=\"bill_depth_mm\", hue=\"species\")\nax.set_title(\"Penguins (style perso)\")\nplt.tight_layout()\n```\n</details>\n",
      "metadata": {}
    },
    {
      "id": "5a851763",
      "cell_type": "markdown",
      "source": "\n---\n## 9) Intégration Matplotlib & export propre\n- Seaborn retourne des **Axes/figures Matplotlib** ➜ on peut `set_title`, `set_xlabel`, `fig.savefig(...)`\n",
      "metadata": {}
    },
    {
      "id": "78aabb94",
      "cell_type": "code",
      "metadata": {},
      "execution_count": null,
      "source": "\nax = sns.histplot(tips, x=\"total_bill\", kde=True)\nax.set(title=\"Distribution des additions\", xlabel=\"Total bill ($)\", ylabel=\"Fréquence\")\nax.figure.tight_layout()\nax.figure.savefig(\"seaborn_hist.png\", dpi=300, bbox_inches=\"tight\")\n\"Fichier enregistré: seaborn_hist.png\"\n",
      "outputs": []
    },
    {
      "id": "fc510740",
      "cell_type": "markdown",
      "source": "\n---\n## 10) Bonnes pratiques (récap)\n- **Toujours** vérifier les **données manquantes/outliers** avant d'interpréter des graphes\n- Utiliser `hue`, `style`, `size` avec parcimonie (lisibilité > gadgets)\n- Facetter (`col`/`row`) pour comparer des sous-populations\n- Harmoniser le **style** (thème + palette) et exporter en haute qualité\n",
      "metadata": {}
    },
    {
      "id": "15c86d0a",
      "cell_type": "markdown",
      "source": "\n---\n## 11) 📝 Quiz express\n1) Quelle différence entre `pairplot` et `jointplot` ?  \n2) Comment afficher un **IC** sur un `barplot` ?  \n3) Quelle API permet de facetter automatiquement des `scatterplot` ?  \n4) Comment changer rapidement le **thème** global ?  \n5) À quoi sert `clustermap` ?\n\n<details>\n<summary>✅ Corrigé</summary>\n\n1) `pairplot` = matrice de relations entre **plusieurs** variables ; `jointplot` = relation **bivariée** avec marges.  \n2) C'est implicite (moyenne ± IC) — on peut ajuster avec `errorbar`/`ci` selon version.  \n3) `relplot` (ou `FacetGrid`).  \n4) `sns.set_theme()` (ou `set_style`/`set_context`).  \n5) Clustering + heatmap pour visualiser structures/similarités.\n</details>\n",
      "metadata": {}
    },
    {
      "id": "ddd59f8f",
      "cell_type": "markdown",
      "source": "\n---\n## 12) 🎯 Mini-projet — *EDA express “tips” & “penguins”*\n**Tâche** : produire une **fiche EDA** composée de 4 à 6 figures Seaborn bien mises en page :\n1) **Distribution** clé (hist+KDE) avec titres/labels propres  \n2) **Graphique catégoriel** pertinent (moyenne/IC)  \n3) **Relation bivariée** (scatter avec hue + éventuellement régression)  \n4) **Facettes** sur 2 dimensions (ex. `time` × `smoker` ou `species` × `island`)  \n5) **Heatmap** de corrélations (si num.)  \n6) Export en PNG 300 dpi\n\n> Exige style cohérent (`set_context(\"talk\")`, `set_style(\"whitegrid\")`, palette choisie).  \n> L’idée est de rendre un “mini-rapport” visuel clair et autoportant.\n",
      "metadata": {}
    },
    {
      "id": "4a1c6419",
      "cell_type": "code",
      "metadata": {},
      "execution_count": null,
      "source": "\n# Exemple de squelette (à adapter)\nsns.set_theme()\nsns.set_style(\"whitegrid\")\nsns.set_context(\"talk\")\nsns.set_palette(\"deep\")\n\n# 1) Distribution\nfig1, ax1 = plt.subplots(figsize=(6,4))\nsns.histplot(tips, x=\"total_bill\", kde=True, ax=ax1)\nax1.set(title=\"Distribution des additions\", xlabel=\"Total bill ($)\")\nfig1.tight_layout()\nfig1.savefig(\"eda1_distribution.png\", dpi=300, bbox_inches=\"tight\")\n\n# 2) Catégoriel\nfig2, ax2 = plt.subplots(figsize=(6,4))\nsns.barplot(data=tips, x=\"day\", y=\"tip\", hue=\"sex\", ax=ax2)\nax2.set(title=\"Tips par jour et par sexe\", xlabel=\"Jour\", ylabel=\"Tip\")\nfig2.tight_layout()\nfig2.savefig(\"eda2_categoriel.png\", dpi=300, bbox_inches=\"tight\")\n\n# 3) Relation bivariée + régression\nfig3 = sns.lmplot(data=tips, x=\"total_bill\", y=\"tip\", hue=\"sex\", col=\"time\")\nfig3.fig.suptitle(\"Tips vs Total bill (lmplot)\", y=1.02)\nfig3.figure.savefig(\"eda3_regression.png\", dpi=300, bbox_inches=\"tight\")\n\n# 4) Facettes Penguins\ng = sns.relplot(data=penguins.dropna(), x=\"bill_length_mm\", y=\"bill_depth_mm\", hue=\"species\", col=\"island\")\ng.fig.suptitle(\"Penguins par île\", y=1.02)\ng.figure.savefig(\"eda4_facets_penguins.png\", dpi=300, bbox_inches=\"tight\")\n\n# 5) Heatmap corr Iris\ncorr = iris.drop(columns=[\"species\"]).corr(numeric_only=True)\nfig5, ax5 = plt.subplots(figsize=(5,4))\nsns.heatmap(corr, annot=True, fmt=\".2f\", cmap=\"magma\", square=True, ax=ax5)\nax5.set_title(\"Corrélations Iris\")\nfig5.tight_layout()\nfig5.savefig(\"eda5_heatmap_iris.png\", dpi=300, bbox_inches=\"tight\")\n\n\"Exports: eda1_distribution.png, eda2_categoriel.png, eda3_regression.png, eda4_facets_penguins.png, eda5_heatmap_iris.png\"\n",
      "outputs": []
    },
    {
      "id": "42b00f04",
      "cell_type": "markdown",
      "source": "\n---\n## 📚 Ressources\n- Seaborn docs : https://seaborn.pydata.org/  \n- Tutorials : https://seaborn.pydata.org/tutorial.html  \n- Figure-level vs Axes-level : https://seaborn.pydata.org/tutorial/function_overview.html  \n\n**Suite** : **SciPy** puis **Pandas** (dans la progression du module).\n",
      "metadata": {}
    }
  ]
}