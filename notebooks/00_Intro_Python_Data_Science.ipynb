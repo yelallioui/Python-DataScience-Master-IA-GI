{
  "nbformat": 4,
  "nbformat_minor": 5,
  "metadata": {
    "kernelspec": {
      "display_name": "Python 3",
      "language": "python",
      "name": "python3"
    },
    "language_info": {
      "name": "python",
      "pygments_lexer": "ipython3"
    },
    "colab": {
      "name": "Intro_Python_Data_Science.ipynb",
      "provenance": []
    }
  },
  "cells": [
    {
      "id": "813b9ac2",
      "cell_type": "markdown",
      "source": "\n# 🧠 Introduction à Python pour la Data Science\n_Master IA‑GI — Notebook 1_\n\n> **But du notebook** : poser des bases solides de Python (langage + environnement) pour aborder NumPy, Matplotlib, SciPy puis Pandas.\n\n**Objectifs d’apprentissage**\n- Installer/utiliser Colab efficacement\n- Maîtriser les bases Python (variables, types, contrôles, fonctions)\n- Manipuler les collections natives et les compréhensions\n- Comprendre l’intérêt minimal de la POO pour la data\n- Savoir installer un package et structurer un mini-script\n\n**Pré‑requis** : aucun (bases informatiques)  \n**Durée estimée** : 2h–3h\n\n---\n\n<details>\n<summary><strong>Conseil d’utilisation (à lire une fois)</strong></summary>\n\n- Exécute les cellules dans l’ordre (Shift+Entrée).  \n- Lis les encadrés “<em>Hint</em>” et “<em>Solution</em>” seulement après avoir essayé.  \n- Les blocs <code>%timeit</code> mesurent les performances — très utiles en Data Science.  \n- Une barre latérale “Table of contents” est disponible dans Colab (Menu ➜ View ➜ Table of contents).\n</details>\n",
      "metadata": {}
    },
    {
      "id": "8b3af9b6",
      "cell_type": "markdown",
      "source": "\n## 2) 🚀 Préparer l’environnement (Colab)\n- Vérifier la version de Python\n- Installer un package utile (affichages plus lisibles)\n- (Option) Monter Google Drive si nécessaire\n",
      "metadata": {}
    },
    {
      "id": "f04d729b",
      "cell_type": "code",
      "metadata": {},
      "execution_count": null,
      "source": "\nimport sys, platform\nprint(\"Python:\", sys.version)\nprint(\"Platform:\", platform.platform())\n",
      "outputs": []
    },
    {
      "id": "cf6381d8",
      "cell_type": "code",
      "metadata": {},
      "execution_count": null,
      "source": "\n# Installation légère pour un affichage plus agréable\n!pip -q install rich\nfrom rich import print as rprint\nrprint(\"[bold green]✅ Environnement prêt ![/]\")\n",
      "outputs": []
    },
    {
      "id": "c9090555",
      "cell_type": "code",
      "metadata": {},
      "execution_count": null,
      "source": "\n# (Option) Monter Google Drive si vous utilisez des fichiers depuis votre Drive\n# from google.colab import drive\n# drive.mount('/content/drive')\n",
      "outputs": []
    },
    {
      "id": "938afe97",
      "cell_type": "markdown",
      "source": "\n## 3) ⚡ Rappels ultra‑rapides sur Python\n- `print`, commentaires, indentation\n- Variables = noms + valeurs (typage dynamique)\n- Aide intégrée : `help(obj)` et `dir(obj)`\n",
      "metadata": {}
    },
    {
      "id": "606a8d18",
      "cell_type": "code",
      "metadata": {},
      "execution_count": null,
      "source": "\n# Commentaire : ceci n'est pas exécuté\nprint(\"Hello IA‑GI 👋\")\n\nx = 3\ny = 2.5\ns = \"data\"\nprint(type(x), type(y), type(s))\n\n# Aide : décommentez pour voir la doc\n# help(len)\ndir_len = [name for name in dir(str) if \"upper\" in name or \"lower\" in name]\ndir_len[:5], len(dir_len)\n",
      "outputs": []
    },
    {
      "id": "0a02e0bf",
      "cell_type": "markdown",
      "source": "\n## 4) 🔤 Variables, types et conversions\n- `int`, `float`, `bool`, `str`\n- Casting : `int()`, `float()`, `str()`, `bool()`\n- F‑strings pour afficher proprement\n",
      "metadata": {}
    },
    {
      "id": "09614536",
      "cell_type": "code",
      "metadata": {},
      "execution_count": null,
      "source": "\na, b = 7, 2\nprint(f\"a/b = {a/b} (float)\")\nprint(f\"a//b = {a//b} (division entière)\")\n\nval = \"42\"\nprint(int(val), float(val), str(3.14), bool(0), bool(\"0\"))\n",
      "outputs": []
    },
    {
      "id": "760e8157",
      "cell_type": "markdown",
      "source": "\n**Exercice 4.1** — *Entrée / Sortie*  \nDemande à l’utilisateur une note sur 20 (input) et affiche :\n- La note\n- Le pourcentage (/100)\n- Mention **\"Validé\"** si ≥10, sinon **\"Non validé\"**.\n\n<details>\n<summary>💡 Hint</summary>\nUtilise <code>float(input(...))</code>, une condition ternaire, et un f‑string.\n</details>\n<details>\n<summary>✅ Solution</summary>\n\n```python\ntry:\n    note = float(input(\"Entrez une note /20 : \"))\n    pct = 5 * note  # /20 → /100\n    statut = \"Validé\" if note >= 10 else \"Non validé\"\n    print(f\"Note: {note}/20 | {pct:.1f}% | {statut}\")\nexcept ValueError:\n    print(\"Entrée invalide.\")\n```\n</details>\n",
      "metadata": {}
    },
    {
      "id": "52ff9905",
      "cell_type": "markdown",
      "source": "\n## 5) ➗ Opérateurs et expressions\n- Arithmétiques `+ - * / // % **`\n- Comparaison `== != < <= > >=`\n- Logiques `and or not`\n- Appartenance `in`, `not in`\n",
      "metadata": {}
    },
    {
      "id": "eca551dc",
      "cell_type": "code",
      "metadata": {},
      "execution_count": null,
      "source": "\nnums = [1, 2, 3]\nprint(\"2 in nums?\", 2 in nums, \"| 4 in nums?\", 4 in nums)\nprint(\"(3 > 2) and (2 > 5) =\", (3 > 2) and (2 > 5))\n",
      "outputs": []
    },
    {
      "id": "8a742bc7",
      "cell_type": "markdown",
      "source": "\n## 6) 🧭 Structures de contrôle (if / for / while)\n- `if / elif / else`\n- `for` (itération sur séquences), `range`\n- `while` (boucle conditionnelle)\n- `break`, `continue`, `enumerate`\n",
      "metadata": {}
    },
    {
      "id": "e179518c",
      "cell_type": "code",
      "metadata": {},
      "execution_count": null,
      "source": "\nx = 13\nif x % 2 == 0:\n    print(\"pair\")\nelse:\n    print(\"impair\")\n\nfor i, v in enumerate([\"A\", \"B\", \"C\"], start=1):\n    print(i, v)\n\nn = 5\nwhile n > 0:\n    if n == 3:\n        n -= 1\n        continue  # saute l'affichage de 3\n    print(\"n =\", n)\n    n -= 1\n",
      "outputs": []
    },
    {
      "id": "e901ae0e",
      "cell_type": "markdown",
      "source": "\n**Checkpoint 🔎**  \nÉcris une boucle qui calcule la somme des entiers de 1 à 100 inclus.\n\n<details>\n<summary>✅ Solution</summary>\n\n```python\ntotal = 0\nfor i in range(1, 101):\n    total += i\ntotal\n```\n</details>\n",
      "metadata": {}
    },
    {
      "id": "a9c8682d",
      "cell_type": "markdown",
      "source": "\n## 7) 🧩 Fonctions (définir, typer, docstrings)\n- Définir une fonction : `def`\n- Paramètres avec valeurs par défaut\n- Annotations de type (facultatif)\n- Docstrings et `help()`\n",
      "metadata": {}
    },
    {
      "id": "81f8155f",
      "cell_type": "code",
      "metadata": {},
      "execution_count": null,
      "source": "\ndef normalize_minmax(x: float, xmin: float = 0.0, xmax: float = 1.0) -> float:\n    \"\"\"Retourne la normalisation min-max de x dans [xmin, xmax].\"\"\"\n    if xmax == xmin:\n        raise ValueError(\"xmax et xmin ne doivent pas être égaux\")\n    return (x - xmin) / (xmax - xmin)\n\nprint(normalize_minmax(5, 0, 10))\n# help(normalize_minmax)\n",
      "outputs": []
    },
    {
      "id": "150fd99c",
      "cell_type": "markdown",
      "source": "\n**Exercice 7.1** — *Exceptions*  \nÉcris une fonction `safe_div(a, b)` qui :\n- renvoie `a/b` si `b != 0`\n- renvoie `None` et affiche un message sinon.\n\n<details>\n<summary>✅ Solution</summary>\n\n```python\ndef safe_div(a, b):\n    if b == 0:\n        print(\"Division par zéro interdite.\")\n        return None\n    return a / b\n\nsafe_div(10, 2), safe_div(10, 0)\n```\n</details>\n",
      "metadata": {}
    },
    {
      "id": "9a3f5e48",
      "cell_type": "markdown",
      "source": "\n## 8) 📦 Collections natives (list, tuple, dict, set)\n- `list` (mutable, ordonnée)\n- `tuple` (immutable)\n- `dict` (clé → valeur)\n- `set` (ensemble, unique)\n",
      "metadata": {}
    },
    {
      "id": "f7e25033",
      "cell_type": "code",
      "metadata": {},
      "execution_count": null,
      "source": "\ncities = [\"Fès\", \"Meknès\", \"Khouribga\"]\ncoords = (34.0, -5.0)\nstudent = {\"name\": \"Sara\", \"age\": 23, \"grade\": 16.0}\ntags = {\"ai\", \"python\", \"ai\"}  # doublon supprimé\n\ncities.append(\"Casablanca\")\nstudent[\"age\"] += 1\n\nprint(cities)\nprint(coords)\nprint(student)\nprint(tags)\n",
      "outputs": []
    },
    {
      "id": "cf5c1ee6",
      "cell_type": "markdown",
      "source": "\n**Exercice 8.1** — *Dictionnaire*  \nAjoute une clé `\"passed\"` au dict `student` valant `True` si grade ≥ 10.\n\n<details>\n<summary>✅ Solution</summary>\n\n```python\nstudent[\"passed\"] = student[\"grade\"] >= 10\nstudent\n```\n</details>\n",
      "metadata": {}
    },
    {
      "id": "d1ab6fe2",
      "cell_type": "markdown",
      "source": "\n## 9) ⚙️ Compréhensions & itérateurs (orienté data)\n- List/dict/set comprehensions\n- `zip`, `map`, `filter`, `sorted`, `any/all`\n- Cas pratiques data (pré‑Pandas)\n",
      "metadata": {}
    },
    {
      "id": "df90ff0b",
      "cell_type": "code",
      "metadata": {},
      "execution_count": null,
      "source": "\ngrades = [14, 9, 12, 16, 7]\npassed = [g for g in grades if g >= 10]\nstatus_by_student = {i: (\"OK\" if g>=10 else \"KO\") for i, g in enumerate(grades, 1)}\n\npairs = list(zip([\"Ali\",\"Sara\",\"Yasmin\"], grades))\ntop2 = sorted(pairs, key=lambda x: x[1], reverse=True)[:2]\n\nprint(\"passed:\", passed)\nprint(\"status_by_student:\", status_by_student)\nprint(\"top2:\", top2)\n",
      "outputs": []
    },
    {
      "id": "845181a7",
      "cell_type": "markdown",
      "source": "\n## 10) 📦 Modules, paquets et gestion d’environnement (pip)\n- Import de modules standards (`math`, `statistics`)\n- Installation d’un package (`pip`) et import\n- Lire/écrire un petit fichier (préparer l’arrivée de Pandas)\n",
      "metadata": {}
    },
    {
      "id": "4d53cf7a",
      "cell_type": "code",
      "metadata": {},
      "execution_count": null,
      "source": "\nimport math, statistics as stats\ndata = [2, 4, 6, 8, 10]\nprint(\"sqrt(49) =\", math.sqrt(49))\nprint(\"mean =\", stats.mean(data), \"| pstdev =\", stats.pstdev(data))\n",
      "outputs": []
    },
    {
      "id": "7a1d2d09",
      "cell_type": "code",
      "metadata": {},
      "execution_count": null,
      "source": "\n# Créons un petit CSV jouet\nwith open(\"students.csv\", \"w\", encoding=\"utf-8\") as f:\n    f.write(\"name,age,grade\\nAli,21,14.5\\nSara,23,16.0\\nYoussouf,20,12.0\\n\")\n\n# Lecture EXPRESS (sans Pandas)\nrows = []\nwith open(\"students.csv\", encoding=\"utf-8\") as f:\n    header = f.readline().strip().split(\",\")\n    for line in f:\n        rows.append(line.strip().split(\",\"))\n\nprint(\"header:\", header)\nprint(\"rows:\", rows)\n",
      "outputs": []
    },
    {
      "id": "f9ce8b1b",
      "cell_type": "markdown",
      "source": "\n## 11) 🧱 POO minimaliste pour la data\n- Quand la POO est utile : regrouper des données + méthodes\n- `class`, constructeur `__init__`, méthode d’instance\n",
      "metadata": {}
    },
    {
      "id": "54e7bf41",
      "cell_type": "code",
      "metadata": {},
      "execution_count": null,
      "source": "\nclass Student:\n    def __init__(self, name: str, age: int, grade: float):\n        self.name = name\n        self.age = age\n        self.grade = grade\n    \n    def passed(self) -> bool:\n        return self.grade >= 10\n    \n    def __repr__(self):\n        return f\"Student({self.name}, {self.age}, {self.grade})\"\n\ngroup = [Student(\"Ali\",21,14.5), Student(\"Sara\",23,16.0), Student(\"Youssouf\",20,12.0)]\n[x for x in group if x.passed()]\n",
      "outputs": []
    },
    {
      "id": "56afa065",
      "cell_type": "markdown",
      "source": "\n## 12) ✅ Bonnes pratiques (style, tests, profiling)\n- Style PEP 8 (noms, indentation, lignes courtes)\n- Assertions & tests rapides\n- Mesurer le temps d’exécution (`%timeit`)\n",
      "metadata": {}
    },
    {
      "id": "d6028c99",
      "cell_type": "code",
      "metadata": {},
      "execution_count": null,
      "source": "\ndef slow_sum(n):\n    s = 0\n    for i in range(n+1):\n        s += i\n    return s\n\ndef fast_sum(n):\n    return n*(n+1)//2\n\n# Test minimal\nassert slow_sum(100) == fast_sum(100)\n\n# Profilage micro (résultats variables selon l'exécution)\n%timeit slow_sum(100000)\n%timeit fast_sum(100000)\n",
      "outputs": []
    },
    {
      "id": "10b9ea21",
      "cell_type": "markdown",
      "source": "\n## 13) 📝 Quiz éclair (auto‑évaluation)\n1. Quelle est la différence entre `//` et `/` ?  \n2. Donne un exemple de *dict comprehension*.  \n3. Que renvoie `any([0,\"\",False,1])` ?  \n4. À quoi sert `__init__` dans une classe ?  \n5. Quelle commande utilises‑tu dans Colab pour installer un package ?\n\n<details>\n<summary>✅ Corrigé</summary>\n\n1) `/` = division flottante ; `//` = division entière (quotient).  \n2) Exemple : `{i: i*i for i in range(5)}`  \n3) `True` (car au moins un élément est \"truthy\").  \n4) C’est le constructeur : initialise l’état de l’instance.  \n5) `!pip install <package>`\n</details>\n",
      "metadata": {}
    },
    {
      "id": "4a8234b7",
      "cell_type": "markdown",
      "source": "\n## 14) 🎯 Mini‑projet : \"Analyse express des étudiants (sans Pandas)\"\n**Tâches**\n1. Charger `students.csv` (déjà créé) et convertir les colonnes `age` et `grade` en numériques.  \n2. Calculer : moyenne des notes, meilleur élève, nombre de validés.  \n3. Afficher un petit rapport formaté.  \n4. *(Bonus)* Enregistrer un `report.txt` avec les résultats.\n\n> Objectif : réinvestir variables, conversions, boucles, fonctions, dicts/compréhensions.\n",
      "metadata": {}
    },
    {
      "id": "2c0843c3",
      "cell_type": "code",
      "metadata": {},
      "execution_count": null,
      "source": "\ndef load_csv(path: str):\n    \"\"\"Retourne header (list[str]) et rows (list[dict]).\"\"\"\n    with open(path, encoding=\"utf-8\") as f:\n        header = f.readline().strip().split(\",\")\n        rows = []\n        for line in f:\n            name, age, grade = line.strip().split(\",\")\n            rows.append({\"name\": name, \"age\": int(age), \"grade\": float(grade)})\n    return header, rows\n\ndef compute_stats(rows):\n    grades = [r[\"grade\"] for r in rows]\n    mean_grade = sum(grades)/len(grades)\n    best = max(rows, key=lambda r: r[\"grade\"])\n    passed = sum(1 for r in rows if r[\"grade\"] >= 10)\n    return {\"mean\": mean_grade, \"best\": best, \"passed\": passed, \"total\": len(rows)}\n\ndef format_report(st):\n    best = st[\"best\"]\n    return (\n        f\"Étudiants : {st['total']}\\n\"\n        f\"Moyenne des notes : {st['mean']:.2f}\\n\"\n        f\"Validés (>=10) : {st['passed']}\\n\"\n        f\"Top étudiant : {best['name']} ({best['grade']})\"\n    )\n\nheader, rows = load_csv(\"students.csv\")\nstats = compute_stats(rows)\nreport = format_report(stats)\nprint(report)\n\n# (Bonus) Sauvegarder\nwith open(\"report.txt\", \"w\", encoding=\"utf-8\") as f:\n    f.write(report + \"\\n\")\nreport\n",
      "outputs": []
    },
    {
      "id": "877ad74a",
      "cell_type": "markdown",
      "source": "\n## 15) 📚 Ressources & suite\n- Docs Python : https://docs.python.org/3/\n- Tutoriels officiels : https://docs.python.org/3/tutorial/\n- Prochain notebook : **NumPy — Calcul scientifique et tableaux**\n\n---\n\n> _Dernier conseil_ : gardez ce notebook comme “référence rapide” — il vous servira encore avec NumPy/Pandas.\n",
      "metadata": {}
    }
  ]
}