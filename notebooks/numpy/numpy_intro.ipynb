{
  "cells": [
    {
      "cell_type": "markdown",
      "metadata": {},
      "source": ["# NumPy — Introduction\nCe notebook est un exemple de base pour tester la connexion Colab ↔ GitHub."]
    },
    {
      "cell_type": "code",
      "metadata": {},
      "execution_count": null,
      "outputs": [],
      "source": ["import numpy as np\nprint('Connexion Colab ↔ GitHub réussie ✅')"]
    }
  ],
  "metadata": {
    "colab": {"name": "numpy_intro.ipynb"},
    "kernelspec": {"display_name": "Python 3", "language": "python", "name": "python3"}
  },
  "nbformat": 4,
  "nbformat_minor": 0
}
