{
 "cells": [
  {
   "cell_type": "code",
   "metadata": {},
   "source": [
    "# Notebook de test pour Colab ↔ GitHub\n",
    "print(\"Connexion Colab ↔ GitHub réussie ✅\")"
   ],
   "outputs": [],
   "execution_count": null
  }
 ],
 "metadata": {},
 "nbformat": 4,
 "nbformat_minor": 2
}
